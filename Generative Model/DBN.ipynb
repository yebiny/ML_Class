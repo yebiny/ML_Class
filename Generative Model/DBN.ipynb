{
 "cells": [
  {
   "cell_type": "code",
   "execution_count": 2,
   "metadata": {},
   "outputs": [
    {
     "name": "stdout",
     "output_type": "stream",
     "text": [
      "Extracting ./mnist/data/train-images-idx3-ubyte.gz\n",
      "Extracting ./mnist/data/train-labels-idx1-ubyte.gz\n",
      "Extracting ./mnist/data/t10k-images-idx3-ubyte.gz\n",
      "Extracting ./mnist/data/t10k-labels-idx1-ubyte.gz\n"
     ]
    },
    {
     "data": {
      "image/png": "[encoded data removed]",
      "text/plain": [
       "<matplotlib.figure.Figure at 0x10fbe30b8>"
      ]
     },
     "metadata": {},
     "output_type": "display_data"
    },
    {
     "name": "stdout",
     "output_type": "stream",
     "text": [
      "1st RBM finished\n",
      "2nd RBM finished\n",
      "3rd RBM finished\n",
      "4th RBM finished\n",
      "0.98 0.73 label: 7\n",
      "0.13 0.40 label: 2\n",
      "0.00 0.92 label: 1\n",
      "0.99 0.16 label: 0\n",
      "1.00 0.34 label: 4\n",
      "0.00 0.92 label: 1\n",
      "0.98 0.73 label: 4\n",
      "0.98 0.68 label: 9\n",
      "0.80 0.52 label: 5\n",
      "0.92 0.80 label: 9\n",
      "0.85 0.16 label: 0\n",
      "0.85 0.16 label: 6\n",
      "0.99 0.69 label: 9\n",
      "0.99 0.16 label: 0\n",
      "0.00 0.92 label: 1\n",
      "0.13 0.40 label: 5\n"
     ]
    },
    {
     "data": {
      "image/png": "[encoded data removed]",
      "text/plain": [
       "<matplotlib.figure.Figure at 0x1c2fa4fbe0>"
      ]
     },
     "metadata": {},
     "output_type": "display_data"
    }
   ],
   "source": [
    "import tensorflow as tf\n",
    "import numpy as np\n",
    "import matplotlib.pyplot as plt\n",
    "\n",
    "from tensorflow.examples.tutorials.mnist import input_data\n",
    "mnist=input_data.read_data_sets(\"./mnist/data/\", one_hot=False)\n",
    "\n",
    "num_sample = 16\n",
    "v=mnist.test.images[:num_sample,:]\n",
    "label = mnist.test.labels[:num_sample]\n",
    "\n",
    "fig1=plt.figure()\n",
    "fig1.suptitle('Original digits')\n",
    "for n in range(num_sample):\n",
    "    subplot=fig1.add_subplot(4,4,n+1)\n",
    "    subplot.set_xticks([])\n",
    "    subplot.set_yticks([])\n",
    "    subplot.imshow(v[n].reshape((28,28)), cmap=plt.cm.gray)\n",
    "plt.show()\n",
    "\n",
    "# 학습 파라미터\n",
    "alpha = 0.05\n",
    "num_iter = 500\n",
    "\n",
    "# RBM 함수\n",
    "def RBM(v0, h_dim, last_layer=False):\n",
    "    N, v_dim = v0.shape\n",
    "    h0 = np.zeros((N, h_dim))\n",
    "    v1 = np.zeros((N, v_dim))\n",
    "    h1 = np.zeros((N, h_dim))\n",
    "\n",
    "    a = 0.5-np.random.rand(v_dim)\n",
    "    b = 0.5-np.random.rand(h_dim)\n",
    "    w = 0.5-np.random.rand(v_dim, h_dim)\n",
    "\n",
    "    for k in range(num_iter):\n",
    "        for n in range(N):\n",
    "            for j in range(h_dim):\n",
    "                de = np.inner(v0[n], w[:,j]) + b[j]\n",
    "                if(1./(1.+np.exp(-de)) > np.random.rand()):\n",
    "                    h0[n][j] = 1.\n",
    "                else:\n",
    "                    h0[n][j] = 0.\n",
    "            \n",
    "            for i in range(v_dim):\n",
    "                de = np.inner(h0[n], w[i, :]) + a[i]\n",
    "                if(1./(1.+np.exp(-de)) > np.random.rand()):\n",
    "                    v1[n][i] = 1.\n",
    "                else:\n",
    "                    v1[n][i] = 0.\n",
    "                        \n",
    "            for j in range(h_dim):\n",
    "                de = np.inner(v1[n], w[:,j]) + b[j]\n",
    "                if(1./(1.+np.exp(-de)) > np.random.rand()):\n",
    "                    h1[n][j] = 1.\n",
    "                else:\n",
    "                    h1[n][j] = 0.\n",
    "                \n",
    "        da = np.mean(v0 - v1, axis = 0) \n",
    "        db = np.mean(h0 - h1, axis = 0)\n",
    "        dw = (np.matmul(v0.T, h0) - np.matmul(v1.T, h1))/N\n",
    "    \n",
    "        a += alpha*da\n",
    "        b += alpha*db\n",
    "        w += alpha*dw\n",
    "\n",
    "    #학습된 파라미터를 이용해서 v에 대응하는 h를 얻는 과정\n",
    "    if(not last_layer):\n",
    "        for n in range(N):\n",
    "            for j in range(h_dim):\n",
    "                de = np.inner(v0[n], w[:,j]) + b[j]\n",
    "                if(1./(1.+np.exp(-de)) > np.random.rand()):\n",
    "                    h0[n][j] = 1.\n",
    "                else:\n",
    "                    h0[n][j] = 0.\n",
    "                \n",
    "    if(last_layer):\n",
    "        for n in range(N):\n",
    "            for j in range(h_dim):\n",
    "                de = np.inner(v0[n], w[:,j]) + b[j]\n",
    "                h0[n][j] = 1./(1.+np.exp(-de))\n",
    "                \n",
    "    return h0\n",
    "\n",
    "h1=RBM(v, 200)\n",
    "print('1st RBM finished')\n",
    "h2=RBM(h1, 50)\n",
    "print('2nd RBM finished')\n",
    "h3=RBM(h2, 10)\n",
    "print('3rd RBM finished')\n",
    "h4=RBM(h3, 2, last_layer = True)\n",
    "print('4th RBM finished')\n",
    "\n",
    "\n",
    "colors = ['C0', 'C1', 'C2', 'C3', 'C4', 'C5', 'C6', 'C7', 'C8', 'C9' ]\n",
    "for x,y,l in zip(h4[:,0], h4[:,1], label):\n",
    "    print('%.2f %.2f label: %d' % (x,y,l))\n",
    "    plt.plot(x,y, '*', color=colors[l])\n",
    "    plt.text(x,y, '%d' % l)\n",
    "    "
   ]
  },
  {
   "cell_type": "code",
   "execution_count": null,
   "metadata": {},
   "outputs": [],
   "source": []
  }
 ],
 "metadata": {
  "kernelspec": {
   "display_name": "Python 3",
   "language": "python",
   "name": "python3"
  },
  "language_info": {
   "codemirror_mode": {
    "name": "ipython",
    "version": 3
   },
   "file_extension": ".py",
   "mimetype": "text/x-python",
   "name": "python",
   "nbconvert_exporter": "python",
   "pygments_lexer": "ipython3",
   "version": "3.6.5"
  }
 },
 "nbformat": 4,
 "nbformat_minor": 2
}
