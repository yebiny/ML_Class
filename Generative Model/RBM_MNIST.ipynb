{
 "cells": [
  {
   "cell_type": "code",
   "execution_count": 2,
   "metadata": {},
   "outputs": [
    {
     "name": "stdout",
     "output_type": "stream",
     "text": [
      "Extracting ./mnist/data/train-images-idx3-ubyte.gz\n",
      "Extracting ./mnist/data/train-labels-idx1-ubyte.gz\n",
      "Extracting ./mnist/data/t10k-images-idx3-ubyte.gz\n",
      "Extracting ./mnist/data/t10k-labels-idx1-ubyte.gz\n"
     ]
    },
    {
     "data": {
      "image/png": "[encoded data removed]",
      "text/plain": [
       "<matplotlib.figure.Figure at 0x1c2ec21f98>"
      ]
     },
     "metadata": {},
     "output_type": "display_data"
    },
    {
     "data": {
      "image/png": "[encoded data removed]",
      "text/plain": [
       "<matplotlib.figure.Figure at 0x1c397e8c88>"
      ]
     },
     "metadata": {},
     "output_type": "display_data"
    }
   ],
   "source": [
    "import tensorflow as tf\n",
    "import numpy as np\n",
    "import matplotlib.pyplot as plt\n",
    "\n",
    "from tensorflow.examples.tutorials.mnist import input_data\n",
    "mnist=input_data.read_data_sets(\"./mnist/data/\", one_hot=False)\n",
    "\n",
    "#RBM Network (784 visible nodes, 200 hidden nodes)\n",
    "#16개의 손글씨 이미지를 준비\n",
    "#CD알고리즘을 적용하기 위해 v1, h1 변수도 준비\n",
    "num_sample = 16\n",
    "v0=mnist.test.images[:num_sample,:]\n",
    "label = mnist.test.labels[:num_sample]\n",
    "N, v_dim = v0.shape\n",
    "h_dim = 200 #숨은 변수의 개수를 조절하면 생성되는 이미지의 다양성과 해상도가 바뀐다!\n",
    "h0 = np.zeros((N, h_dim))\n",
    "v1 = np.zeros((N, v_dim))\n",
    "h1 = np.zeros((N, h_dim))\n",
    "\n",
    "\n",
    "#CD알고리즘의 학습률과 반복횟수 설정 및 RBM네트워크의 파라미터 값의 초기화\n",
    "alpha = 0.05\n",
    "num_iter = 500\n",
    "a = 0.5-np.random.rand(v_dim)\n",
    "b = 0.5-np.random.rand(h_dim)\n",
    "w = 0.5-np.random.rand(v_dim, h_dim)\n",
    "\n",
    "#CD알고리즘을 통한 학습\n",
    "for k in range(num_iter):\n",
    "    for n in range(N):\n",
    "        for j in range(h_dim):\n",
    "            de = np.inner(v0[n], w[:,j]) + b[j] #h0[j]=1와 h0[j]=0인 경우 RBM의 에너지 차이\n",
    "            if(1./(1.+np.exp(-de)) > np.random.rand()):\n",
    "                h0[n][j] = 1.\n",
    "            else:\n",
    "                h0[n][j] = 0.\n",
    "            \n",
    "        for i in range(v_dim):\n",
    "            de = np.inner(h0[n], w[i, :]) + a[i] #v1[i]=1와 v1[i]=0인 경우 RBM의 에너지 차이\n",
    "            if(1./(1.+np.exp(-de)) > np.random.rand()):\n",
    "                v1[n][i] = 1.\n",
    "            else:\n",
    "                v1[n][i] = 0.\n",
    "                        \n",
    "        for j in range(h_dim):\n",
    "            de = np.inner(v1[n], w[:,j]) + b[j] #h1[j]=1와 h1[j]=0인 경우 RBM의 에너지 차이\n",
    "            if(1./(1.+np.exp(-de)) > np.random.rand()):\n",
    "                h1[n][j] = 1.\n",
    "            else:\n",
    "                h1[n][j] = 0.\n",
    "\n",
    "    #D_KL의 기울기 계산                \n",
    "    da = np.mean(v0 - v1, axis = 0) #-dD_KL/da[i] = 1/N\\sum_n v0[n][i] - v1[n][i]\n",
    "    db = np.mean(h0 - h1, axis = 0) #-dD_KL/db[j] = 1/N \\sum_n h0[n][j] - h1[n][j]\n",
    "    dw = (np.matmul(v0.T, h0) - np.matmul(v1.T, h1))/N #-dD_KL/dw[i][j] = 1/N \\sum_n v0[n][i]*h0[n][j] - v1[n][i]*h1[n][j]\n",
    "\n",
    "    #RBM 파라미터들의 업데이트    \n",
    "    a += alpha*da\n",
    "    b += alpha*db\n",
    "    w += alpha*dw\n",
    "\n",
    "    \n",
    "    \n",
    "#학습된 RBM에서 손글씨 이미지를 생성\n",
    "num_equilibrium = 200 #숨은 변수값을 평형상태의 RBM네트워크에 맞추기 위한 평형화 과정에 필요한 반복횟수\n",
    "v_sample = np.zeros((num_sample, v_dim)) #생성한 이미지 샘플을 저장하기 위한 변수\n",
    "\n",
    "for n in range(num_sample):\n",
    "    h_gen = np.round(np.random.rand(h_dim)) #무작위로 숨은 변수를 선택\n",
    "    v_gen = np.zeros(v_dim)\n",
    "    for k in range(num_equilibrium): #visible layer와 hidden layer를 반복해서 오가면서 손글씨 이미지를 샘플링하는 과정 \n",
    "        for i in range(v_dim):\n",
    "            de = np.inner(h_gen, w[i, :]) + a[i]\n",
    "            if(1./(1.+np.exp(-de)) > np.random.rand()):\n",
    "                v_gen[i] = 1.\n",
    "            else:\n",
    "                v_gen[i] = 0.\n",
    "                \n",
    "        for j in range(h_dim):\n",
    "            de = np.inner(v_gen, w[:,j]) + b[j]\n",
    "            if(1./(1.+np.exp(-de)) > np.random.rand()):\n",
    "                h_gen[j] = 1.\n",
    "            else:\n",
    "                h_gen[j] = 0. \n",
    "    v_sample[n] = v_gen\n",
    "    \n",
    "    \n",
    "#학습하는 원래 손글씨 이미지와 RBM이 생성한 손글씨 이미지를 시각화    \n",
    "fig1=plt.figure()\n",
    "fig1.suptitle('Original digits')\n",
    "for n in range(num_sample):\n",
    "    subplot=fig1.add_subplot(4,4,n+1)\n",
    "    subplot.set_xticks([])\n",
    "    subplot.set_yticks([])\n",
    "    subplot.imshow(v0[n].reshape((28,28)), cmap=plt.cm.gray)\n",
    "plt.show()\n",
    "\n",
    "fig2=plt.figure()\n",
    "fig2.suptitle('Generated digits')\n",
    "for n in range(num_sample):\n",
    "    subplot=fig2.add_subplot(4,4,n+1)\n",
    "    subplot.set_xticks([])\n",
    "    subplot.set_yticks([])\n",
    "    subplot.imshow(v_sample[n].reshape((28,28)), cmap=plt.cm.gray)\n",
    "plt.show()\n"
   ]
  },
  {
   "cell_type": "code",
   "execution_count": null,
   "metadata": {},
   "outputs": [],
   "source": []
  }
 ],
 "metadata": {
  "kernelspec": {
   "display_name": "Python 3",
   "language": "python",
   "name": "python3"
  },
  "language_info": {
   "codemirror_mode": {
    "name": "ipython",
    "version": 3
   },
   "file_extension": ".py",
   "mimetype": "text/x-python",
   "name": "python",
   "nbconvert_exporter": "python",
   "pygments_lexer": "ipython3",
   "version": "3.6.5"
  }
 },
 "nbformat": 4,
 "nbformat_minor": 2
}
